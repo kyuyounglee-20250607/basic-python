{
 "cells": [
  {
   "cell_type": "code",
   "execution_count": 1,
   "id": "23b74425",
   "metadata": {},
   "outputs": [
    {
     "name": "stdout",
     "output_type": "stream",
     "text": [
      "Requirement already satisfied: pandas in c:\\users\\tj\\miniconda3\\envs\\week\\lib\\site-packages (2.3.0)\n",
      "Requirement already satisfied: numpy>=1.26.0 in c:\\users\\tj\\miniconda3\\envs\\week\\lib\\site-packages (from pandas) (2.3.1)\n",
      "Requirement already satisfied: python-dateutil>=2.8.2 in c:\\users\\tj\\miniconda3\\envs\\week\\lib\\site-packages (from pandas) (2.9.0.post0)\n",
      "Requirement already satisfied: pytz>=2020.1 in c:\\users\\tj\\miniconda3\\envs\\week\\lib\\site-packages (from pandas) (2024.1)\n",
      "Requirement already satisfied: tzdata>=2022.7 in c:\\users\\tj\\miniconda3\\envs\\week\\lib\\site-packages (from pandas) (2025.2)\n",
      "Requirement already satisfied: six>=1.5 in c:\\users\\tj\\miniconda3\\envs\\week\\lib\\site-packages (from python-dateutil>=2.8.2->pandas) (1.17.0)\n"
     ]
    }
   ],
   "source": [
    "# pandas 라이브러리 설치\n",
    "!pip install pandas"
   ]
  },
  {
   "cell_type": "code",
   "execution_count": 2,
   "id": "86a1ba54",
   "metadata": {},
   "outputs": [],
   "source": [
    "# pandas 라이브러리 불러오기\n",
    "import pandas as pd\n",
    "# CSV 파일 읽기\n",
    "df = pd.read_csv('data.csv', encoding='cp949')"
   ]
  },
  {
   "cell_type": "code",
   "execution_count": 4,
   "id": "cb0f0c07",
   "metadata": {},
   "outputs": [
    {
     "data": {
      "text/html": [
       "<div>\n",
       "<style scoped>\n",
       "    .dataframe tbody tr th:only-of-type {\n",
       "        vertical-align: middle;\n",
       "    }\n",
       "\n",
       "    .dataframe tbody tr th {\n",
       "        vertical-align: top;\n",
       "    }\n",
       "\n",
       "    .dataframe thead th {\n",
       "        text-align: right;\n",
       "    }\n",
       "</style>\n",
       "<table border=\"1\" class=\"dataframe\">\n",
       "  <thead>\n",
       "    <tr style=\"text-align: right;\">\n",
       "      <th></th>\n",
       "      <th>구분</th>\n",
       "      <th>구분명</th>\n",
       "      <th>연도별값(07)</th>\n",
       "      <th>연도별값(08)</th>\n",
       "      <th>연도별값(09)</th>\n",
       "      <th>연도별값(10)</th>\n",
       "      <th>연도별값(11)</th>\n",
       "      <th>연도별값(12)</th>\n",
       "      <th>연도별값(13)</th>\n",
       "      <th>연도별값(14)</th>\n",
       "      <th>연도별값(15)</th>\n",
       "      <th>연도별값(16)</th>\n",
       "    </tr>\n",
       "  </thead>\n",
       "  <tbody>\n",
       "    <tr>\n",
       "      <th>0</th>\n",
       "      <td>0</td>\n",
       "      <td>연도별</td>\n",
       "      <td>2015</td>\n",
       "      <td>2016</td>\n",
       "      <td>2017</td>\n",
       "      <td>2018</td>\n",
       "      <td>2019</td>\n",
       "      <td>2020</td>\n",
       "      <td>2021</td>\n",
       "      <td>2022</td>\n",
       "      <td>2023</td>\n",
       "      <td>2024</td>\n",
       "    </tr>\n",
       "    <tr>\n",
       "      <th>1</th>\n",
       "      <td>1</td>\n",
       "      <td>0세</td>\n",
       "      <td>83,005</td>\n",
       "      <td>75,536</td>\n",
       "      <td>65,389</td>\n",
       "      <td>58,074</td>\n",
       "      <td>53,673</td>\n",
       "      <td>47,445</td>\n",
       "      <td>45,531</td>\n",
       "      <td>42,602</td>\n",
       "      <td>39,400</td>\n",
       "      <td>41,600</td>\n",
       "    </tr>\n",
       "    <tr>\n",
       "      <th>2</th>\n",
       "      <td>2</td>\n",
       "      <td>출산율(%)</td>\n",
       "      <td>1.001</td>\n",
       "      <td>0.94</td>\n",
       "      <td>0.836</td>\n",
       "      <td>0.761</td>\n",
       "      <td>0.717</td>\n",
       "      <td>0.642</td>\n",
       "      <td>0.626</td>\n",
       "      <td>0.593</td>\n",
       "      <td>0.550</td>\n",
       "      <td>0.580</td>\n",
       "    </tr>\n",
       "    <tr>\n",
       "      <th>3</th>\n",
       "      <td>3</td>\n",
       "      <td>연도별</td>\n",
       "      <td>546,824</td>\n",
       "      <td>530,484</td>\n",
       "      <td>504,604</td>\n",
       "      <td>471,155</td>\n",
       "      <td>438,969</td>\n",
       "      <td>407,374</td>\n",
       "      <td>375,106</td>\n",
       "      <td>345,083</td>\n",
       "      <td>318,405</td>\n",
       "      <td>300,338</td>\n",
       "    </tr>\n",
       "    <tr>\n",
       "      <th>4</th>\n",
       "      <td>4</td>\n",
       "      <td>영유아인구수(명),계</td>\n",
       "      <td>315,053</td>\n",
       "      <td>296,000</td>\n",
       "      <td>278,589</td>\n",
       "      <td>254,219</td>\n",
       "      <td>230,786</td>\n",
       "      <td>206,077</td>\n",
       "      <td>188,659</td>\n",
       "      <td>176,989</td>\n",
       "      <td>165,508</td>\n",
       "      <td>159,742</td>\n",
       "    </tr>\n",
       "  </tbody>\n",
       "</table>\n",
       "</div>"
      ],
      "text/plain": [
       "   구분          구분명 연도별값(07) 연도별값(08) 연도별값(09) 연도별값(10) 연도별값(11) 연도별값(12)  \\\n",
       "0   0          연도별     2015     2016     2017     2018     2019     2020   \n",
       "1   1           0세   83,005   75,536   65,389   58,074   53,673   47,445   \n",
       "2   2       출산율(%)    1.001     0.94    0.836    0.761    0.717    0.642   \n",
       "3   3          연도별  546,824  530,484  504,604  471,155  438,969  407,374   \n",
       "4   4  영유아인구수(명),계  315,053  296,000  278,589  254,219  230,786  206,077   \n",
       "\n",
       "  연도별값(13) 연도별값(14) 연도별값(15) 연도별값(16)  \n",
       "0     2021     2022     2023     2024  \n",
       "1   45,531   42,602   39,400   41,600  \n",
       "2    0.626    0.593    0.550    0.580  \n",
       "3  375,106  345,083  318,405  300,338  \n",
       "4  188,659  176,989  165,508  159,742  "
      ]
     },
     "execution_count": 4,
     "metadata": {},
     "output_type": "execute_result"
    }
   ],
   "source": [
    "df.head()  # 데이터프레임의 처음 5행을 출력합니다."
   ]
  },
  {
   "cell_type": "code",
   "execution_count": 9,
   "id": "04b9d017",
   "metadata": {},
   "outputs": [
    {
     "data": {
      "text/plain": [
       "array(['연도별', '0세', '출산율(%)'], dtype=object)"
      ]
     },
     "execution_count": 9,
     "metadata": {},
     "output_type": "execute_result"
    }
   ],
   "source": [
    "df['구분명'].values[:3]  # '구분명' 열의 값을 NumPy 배열로 반환합니다."
   ]
  },
  {
   "cell_type": "code",
   "execution_count": 8,
   "id": "07f6e521",
   "metadata": {},
   "outputs": [
    {
     "data": {
      "text/plain": [
       "['연도별', '0세', '출산율(%)']"
      ]
     },
     "execution_count": 8,
     "metadata": {},
     "output_type": "execute_result"
    }
   ],
   "source": [
    "df['구분명'].to_list()[:3]  # '구분명' 열의 값을 리스트로 변환합니다."
   ]
  },
  {
   "cell_type": "code",
   "execution_count": null,
   "id": "47875f2b",
   "metadata": {},
   "outputs": [],
   "source": [
    "df['구분명'].to_dict()  # '구분명' 열의 값을 딕셔너리로 변환합니다."
   ]
  },
  {
   "cell_type": "code",
   "execution_count": 28,
   "id": "bf3ba6a8",
   "metadata": {},
   "outputs": [
    {
     "data": {
      "text/plain": [
       "array([1.001, 0.94 , 0.836, 0.761, 0.717, 0.642, 0.626, 0.593, 0.55 ,\n",
       "       0.58 ])"
      ]
     },
     "execution_count": 28,
     "metadata": {},
     "output_type": "execute_result"
    }
   ],
   "source": [
    "df.loc[2].values[2:].astype('float')  # 2번째 행의 3번째 열부터 끝까지의 값을 float 타입으로 변환합니다."
   ]
  },
  {
   "cell_type": "code",
   "execution_count": 36,
   "id": "f0c0cca0",
   "metadata": {},
   "outputs": [
    {
     "data": {
      "text/plain": [
       "array(['2015', '2016', '2017', '2018', '2019', '2020', '2021', '2022',\n",
       "       '2023', '2024'], dtype=object)"
      ]
     },
     "execution_count": 36,
     "metadata": {},
     "output_type": "execute_result"
    }
   ],
   "source": [
    "# 연도별 데이터 가져오기\n",
    "index = df.loc[0].values[2:]\n",
    "index"
   ]
  },
  {
   "cell_type": "code",
   "execution_count": 37,
   "id": "bc2875a4",
   "metadata": {},
   "outputs": [
    {
     "data": {
      "text/plain": [
       "2015    1.001\n",
       "2016    0.940\n",
       "2017    0.836\n",
       "2018    0.761\n",
       "2019    0.717\n",
       "2020    0.642\n",
       "2021    0.626\n",
       "2022    0.593\n",
       "2023    0.550\n",
       "2024    0.580\n",
       "dtype: float64"
      ]
     },
     "execution_count": 37,
     "metadata": {},
     "output_type": "execute_result"
    }
   ],
   "source": [
    "pd.Series(df.loc[2].values[2:].astype('float'),index = index)"
   ]
  },
  {
   "cell_type": "code",
   "execution_count": 38,
   "id": "65c200d9",
   "metadata": {},
   "outputs": [
    {
     "data": {
      "text/plain": [
       "<Axes: >"
      ]
     },
     "execution_count": 38,
     "metadata": {},
     "output_type": "execute_result"
    },
    {
     "data": {
      "image/png": "[encoded data removed]",
      "text/plain": [
       "<Figure size 640x480 with 1 Axes>"
      ]
     },
     "metadata": {},
     "output_type": "display_data"
    }
   ],
   "source": [
    "pd.Series(df.loc[2].values[2:].astype('float'),index = index).plot(kind='bar')"
   ]
  },
  {
   "cell_type": "code",
   "execution_count": 39,
   "id": "39207822",
   "metadata": {},
   "outputs": [
    {
     "data": {
      "text/plain": [
       "0                    연도별\n",
       "1                     0세\n",
       "2                 출산율(%)\n",
       "3                    연도별\n",
       "4            영유아인구수(명),계\n",
       "5     영유아인구수(명),영아(0~2)세\n",
       "6     영유아인구수(명),유아(3~5)세\n",
       "7               어린이집,계,수\n",
       "8              어린이집,계,비율\n",
       "9          어린이집,영아(0~2)세\n",
       "10         어린이집,유아(3~5)세\n",
       "11           유치원(3~5)세,수\n",
       "12          유지원(3~5)세,비율\n",
       "13         시설미이용(0~5)세,수\n",
       "Name: 구분명, dtype: object"
      ]
     },
     "execution_count": 39,
     "metadata": {},
     "output_type": "execute_result"
    }
   ],
   "source": [
    "df['구분명']"
   ]
  }
 ],
 "metadata": {
  "kernelspec": {
   "display_name": "week",
   "language": "python",
   "name": "python3"
  },
  "language_info": {
   "codemirror_mode": {
    "name": "ipython",
    "version": 3
   },
   "file_extension": ".py",
   "mimetype": "text/x-python",
   "name": "python",
   "nbconvert_exporter": "python",
   "pygments_lexer": "ipython3",
   "version": "3.13.5"
  }
 },
 "nbformat": 4,
 "nbformat_minor": 5
}
