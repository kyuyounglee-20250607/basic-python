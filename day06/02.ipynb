{
 "cells": [
  {
   "cell_type": "code",
   "execution_count": 2,
   "id": "7cbe8e1b",
   "metadata": {},
   "outputs": [
    {
     "name": "stdout",
     "output_type": "stream",
     "text": [
      "Requirement already satisfied: python-vlc in c:\\users\\tj\\miniconda3\\envs\\week_3.12\\lib\\site-packages (3.0.21203)\n"
     ]
    }
   ],
   "source": [
    "!pip install python-vlc"
   ]
  },
  {
   "cell_type": "code",
   "execution_count": 3,
   "id": "52687542",
   "metadata": {},
   "outputs": [
    {
     "ename": "FileNotFoundError",
     "evalue": "Could not find module 'd:\\주말반\\libvlc.dll' (or one of its dependencies). Try using the full path with constructor syntax.",
     "output_type": "error",
     "traceback": [
      "\u001b[31m---------------------------------------------------------------------------\u001b[39m",
      "\u001b[31mFileNotFoundError\u001b[39m                         Traceback (most recent call last)",
      "\u001b[36mCell\u001b[39m\u001b[36m \u001b[39m\u001b[32mIn[3]\u001b[39m\u001b[32m, line 2\u001b[39m\n\u001b[32m      1\u001b[39m \u001b[38;5;28;01mimport\u001b[39;00m\u001b[38;5;250m \u001b[39m\u001b[34;01mtkinter\u001b[39;00m\u001b[38;5;250m \u001b[39m\u001b[38;5;28;01mas\u001b[39;00m\u001b[38;5;250m \u001b[39m\u001b[34;01mtk\u001b[39;00m\n\u001b[32m----> \u001b[39m\u001b[32m2\u001b[39m \u001b[38;5;28;01mimport\u001b[39;00m\u001b[38;5;250m \u001b[39m\u001b[34;01mvlc\u001b[39;00m\n\u001b[32m      4\u001b[39m \u001b[38;5;66;03m# 인터넷 라디오 스트리밍 URL\u001b[39;00m\n\u001b[32m      5\u001b[39m STREAM_URL = \u001b[33m\"\u001b[39m\u001b[33mhttp://streaming.tdiradio.com:8000/house.mp3\u001b[39m\u001b[33m\"\u001b[39m\n",
      "\u001b[36mFile \u001b[39m\u001b[32mc:\\Users\\tj\\miniconda3\\envs\\week_3.12\\Lib\\site-packages\\vlc.py:197\u001b[39m\n\u001b[32m    193\u001b[39m     \u001b[38;5;28;01mreturn\u001b[39;00m (dll, plugin_path)\n\u001b[32m    196\u001b[39m \u001b[38;5;66;03m# plugin_path used on win32 and MacOS in override.py\u001b[39;00m\n\u001b[32m--> \u001b[39m\u001b[32m197\u001b[39m dll, plugin_path = \u001b[43mfind_lib\u001b[49m\u001b[43m(\u001b[49m\u001b[43m)\u001b[49m\n\u001b[32m    200\u001b[39m \u001b[38;5;28;01mclass\u001b[39;00m\u001b[38;5;250m \u001b[39m\u001b[34;01mVLCException\u001b[39;00m(\u001b[38;5;167;01mException\u001b[39;00m):\n\u001b[32m    201\u001b[39m \u001b[38;5;250m    \u001b[39m\u001b[33;03m\"\"\"Exception raised by libvlc methods.\"\"\"\u001b[39;00m\n",
      "\u001b[36mFile \u001b[39m\u001b[32mc:\\Users\\tj\\miniconda3\\envs\\week_3.12\\Lib\\site-packages\\vlc.py:156\u001b[39m, in \u001b[36mfind_lib\u001b[39m\u001b[34m()\u001b[39m\n\u001b[32m    154\u001b[39m         os.chdir(p)\n\u001b[32m    155\u001b[39m     \u001b[38;5;28;01melse\u001b[39;00m:  \u001b[38;5;66;03m# may fail\u001b[39;00m\n\u001b[32m--> \u001b[39m\u001b[32m156\u001b[39m         dll = \u001b[43mctypes\u001b[49m\u001b[43m.\u001b[49m\u001b[43mCDLL\u001b[49m\u001b[43m(\u001b[49m\u001b[33;43m\"\u001b[39;49m\u001b[33;43m.\u001b[39;49m\u001b[38;5;130;43;01m\\\\\u001b[39;49;00m\u001b[33;43m\"\u001b[39;49m\u001b[43m \u001b[49m\u001b[43m+\u001b[49m\u001b[43m \u001b[49m\u001b[43mlibname\u001b[49m\u001b[43m)\u001b[49m\n\u001b[32m    157\u001b[39m \u001b[38;5;28;01melse\u001b[39;00m:\n\u001b[32m    158\u001b[39m     plugin_path = os.path.dirname(p)\n",
      "\u001b[36mFile \u001b[39m\u001b[32mc:\\Users\\tj\\miniconda3\\envs\\week_3.12\\Lib\\ctypes\\__init__.py:379\u001b[39m, in \u001b[36mCDLL.__init__\u001b[39m\u001b[34m(self, name, mode, handle, use_errno, use_last_error, winmode)\u001b[39m\n\u001b[32m    376\u001b[39m \u001b[38;5;28mself\u001b[39m._FuncPtr = _FuncPtr\n\u001b[32m    378\u001b[39m \u001b[38;5;28;01mif\u001b[39;00m handle \u001b[38;5;129;01mis\u001b[39;00m \u001b[38;5;28;01mNone\u001b[39;00m:\n\u001b[32m--> \u001b[39m\u001b[32m379\u001b[39m     \u001b[38;5;28mself\u001b[39m._handle = \u001b[43m_dlopen\u001b[49m\u001b[43m(\u001b[49m\u001b[38;5;28;43mself\u001b[39;49m\u001b[43m.\u001b[49m\u001b[43m_name\u001b[49m\u001b[43m,\u001b[49m\u001b[43m \u001b[49m\u001b[43mmode\u001b[49m\u001b[43m)\u001b[49m\n\u001b[32m    380\u001b[39m \u001b[38;5;28;01melse\u001b[39;00m:\n\u001b[32m    381\u001b[39m     \u001b[38;5;28mself\u001b[39m._handle = handle\n",
      "\u001b[31mFileNotFoundError\u001b[39m: Could not find module 'd:\\주말반\\libvlc.dll' (or one of its dependencies). Try using the full path with constructor syntax."
     ]
    }
   ],
   "source": [
    "import tkinter as tk\n",
    "import vlc\n",
    "\n",
    "# 인터넷 라디오 스트리밍 URL\n",
    "STREAM_URL = \"http://streaming.tdiradio.com:8000/house.mp3\"\n",
    "\n",
    "class RadioApp:\n",
    "    def __init__(self, root):\n",
    "        self.root = root\n",
    "        self.root.title(\"인터넷 라디오 플레이어\")\n",
    "        self.root.geometry(\"300x150\")\n",
    "\n",
    "        self.label = tk.Label(root, text=\"🎧 인터넷 라디오\", font=(\"Arial\", 16))\n",
    "        self.label.pack(pady=10)\n",
    "\n",
    "        self.play_button = tk.Button(root, text=\"▶ 재생\", command=self.play_radio)\n",
    "        self.play_button.pack(pady=5)\n",
    "\n",
    "        self.stop_button = tk.Button(root, text=\"⏹ 정지\", command=self.stop_radio)\n",
    "        self.stop_button.pack(pady=5)\n",
    "\n",
    "        # VLC 플레이어 인스턴스\n",
    "        self.player = vlc.MediaPlayer(STREAM_URL)\n",
    "\n",
    "    def play_radio(self):\n",
    "        self.player.play()\n",
    "\n",
    "    def stop_radio(self):\n",
    "        self.player.stop()\n",
    "\n",
    "# 프로그램 실행\n",
    "if __name__ == \"__main__\":\n",
    "    root = tk.Tk()\n",
    "    app = RadioApp(root)\n",
    "    root.mainloop()\n"
   ]
  },
  {
   "cell_type": "code",
   "execution_count": null,
   "id": "977bb782",
   "metadata": {},
   "outputs": [],
   "source": []
  }
 ],
 "metadata": {
  "kernelspec": {
   "display_name": "week_3.12",
   "language": "python",
   "name": "python3"
  },
  "language_info": {
   "codemirror_mode": {
    "name": "ipython",
    "version": 3
   },
   "file_extension": ".py",
   "mimetype": "text/x-python",
   "name": "python",
   "nbconvert_exporter": "python",
   "pygments_lexer": "ipython3",
   "version": "3.12.11"
  }
 },
 "nbformat": 4,
 "nbformat_minor": 5
}
