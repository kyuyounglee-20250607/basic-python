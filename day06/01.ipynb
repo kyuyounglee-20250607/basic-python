{
 "cells": [
  {
   "cell_type": "code",
   "execution_count": 6,
   "id": "78509247",
   "metadata": {},
   "outputs": [
    {
     "name": "stdout",
     "output_type": "stream",
     "text": [
      "총 962 종목이 등록되어 있습니다.\n",
      "\n",
      "                시가      고가      저가      종가      거래량       등락률\n",
      "날짜                                                           \n",
      "2025-06-20  249000  257000  247500  257000  3548848  4.471545\n",
      "📈 SK하이닉스 (000660) 현재가: 257,000원\n",
      "\n",
      "🔍 유사 종목 추천:\n",
      " - SK하이닉스 (000660)\n",
      " - SK이터닉스 (475150)\n",
      " - 하이스틸 (071090)\n",
      " - SK가스 (018670)\n",
      " - SK스퀘어 (402340)\n",
      " - SK바이오사이언스 (302440)\n",
      " - SK바이오팜 (326030)\n",
      " - SK네트웍스 (001740)\n",
      " - SK (034730)\n",
      " - 일진하이솔루스 (271940)\n"
     ]
    }
   ],
   "source": [
    "from pykrx import stock\n",
    "from datetime import datetime\n",
    "import difflib\n",
    "\n",
    "kor_name = 'SK하이닉스'  # 입력 종목명\n",
    "# 마지막 거래일 수동 지정 (금요일)\n",
    "last_trading_day = \"20250620\"\n",
    "\n",
    "# 상장 종목 목록 가져오기\n",
    "tickers = stock.get_market_ticker_list(last_trading_day)\n",
    "\n",
    "name_dict = {}\n",
    "for ticker in tickers:\n",
    "    name = stock.get_market_ticker_name(ticker)\n",
    "    name_dict[name] = ticker\n",
    "print(f\"총 {len(name_dict)} 종목이 등록되어 있습니다.\\n\")\n",
    "# 입력 종목명 정확히 일치\n",
    "if kor_name not in name_dict:\n",
    "    print(f\"'{kor_name}' 종목을 정확히 찾을 수 없습니다. 유사한 종목을 출력합니다.\\n\")\n",
    "else:\n",
    "    ticker = name_dict[kor_name]\n",
    "    price = stock.get_market_ohlcv_by_date(last_trading_day, last_trading_day, ticker)\n",
    "    print(price)\n",
    "    price = price['종가'].iloc[0]\n",
    "    print(f\"📈 {kor_name} ({ticker}) 현재가: {price:,}원\\n\")\n",
    "\n",
    "# 유사 종목 추천\n",
    "all_names = list(name_dict.keys())\n",
    "similar = difflib.get_close_matches(kor_name, all_names, n=10, cutoff=0.3)\n",
    "\n",
    "if similar:\n",
    "    print(\"🔍 유사 종목 추천:\")\n",
    "    for s in similar:\n",
    "        print(f\" - {s} ({name_dict[s]})\")\n",
    "else:\n",
    "    print(\"❌ 유사한 종목명을 찾을 수 없습니다.\")\n",
    "\n",
    "# 예시 실행\n",
    "# get_stock_info(\"삼성전자\")"
   ]
  },
  {
   "cell_type": "code",
   "execution_count": null,
   "id": "fcb1d41a",
   "metadata": {},
   "outputs": [],
   "source": []
  }
 ],
 "metadata": {
  "kernelspec": {
   "display_name": "week_3.12",
   "language": "python",
   "name": "python3"
  },
  "language_info": {
   "codemirror_mode": {
    "name": "ipython",
    "version": 3
   },
   "file_extension": ".py",
   "mimetype": "text/x-python",
   "name": "python",
   "nbconvert_exporter": "python",
   "pygments_lexer": "ipython3",
   "version": "3.12.11"
  }
 },
 "nbformat": 4,
 "nbformat_minor": 5
}
