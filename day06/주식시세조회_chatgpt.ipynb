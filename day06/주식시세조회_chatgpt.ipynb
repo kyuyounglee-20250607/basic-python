{
 "cells": [
  {
   "cell_type": "code",
   "execution_count": null,
   "id": "ffdae50e",
   "metadata": {},
   "outputs": [],
   "source": [
    "%pip install pykrx"
   ]
  },
  {
   "cell_type": "code",
   "execution_count": null,
   "id": "d02ee615",
   "metadata": {},
   "outputs": [
    {
     "data": {
      "text/plain": [
       "datetime.datetime(2025, 6, 22, 10, 22, 22, 211577)"
      ]
     },
     "execution_count": 21,
     "metadata": {},
     "output_type": "execute_result"
    }
   ],
   "source": [
    "from datetime import datetime, timedelta\n",
    "datetime.now()"
   ]
  },
  {
   "cell_type": "code",
   "execution_count": 22,
   "id": "3fa405d6",
   "metadata": {},
   "outputs": [
    {
     "data": {
      "text/plain": [
       "datetime.datetime(2025, 6, 19, 10, 23, 20, 773943)"
      ]
     },
     "execution_count": 22,
     "metadata": {},
     "output_type": "execute_result"
    }
   ],
   "source": [
    "datetime.now() - timedelta(days=3)"
   ]
  },
  {
   "cell_type": "code",
   "execution_count": 23,
   "id": "0f62fb42",
   "metadata": {},
   "outputs": [],
   "source": [
    "from datetime import datetime, timedelta\n",
    "\n",
    "def get_target_stock_date(today: datetime) -> datetime:\n",
    "    weekday = today.weekday()  # 0=월, ..., 6=일\n",
    "    now = datetime.now()\n",
    "\n",
    "    if weekday == 0 and now.hour < 15:  # 월요일 + 마감 전\n",
    "        return today - timedelta(days=3)  # 이전 주 금요일\n",
    "    elif weekday in [1, 2, 3, 4] and now.hour < 15:  # 화~금 + 마감 전\n",
    "        return today - timedelta(days=1)  # 어제\n",
    "    elif weekday in [0, 1, 2, 3, 4] and now.hour >= 15:  # 월~금 + 마감 후\n",
    "        return today  # 오늘\n",
    "    elif weekday == 5:  # 토요일\n",
    "        return today - timedelta(days=1)  # 금요일\n",
    "    elif weekday == 6:  # 일요일\n",
    "        return today - timedelta(days=2)  # 금요일\n",
    "    else:\n",
    "        raise ValueError(\"날짜 판단 오류\")"
   ]
  },
  {
   "cell_type": "code",
   "execution_count": 30,
   "id": "6c7d6f52",
   "metadata": {},
   "outputs": [
    {
     "data": {
      "text/plain": [
       "['060310', '095570', '006840']"
      ]
     },
     "execution_count": 30,
     "metadata": {},
     "output_type": "execute_result"
    }
   ],
   "source": [
    "from pykrx import stock\n",
    "stock_list = stock.get_market_ticker_list(market=\"ALL\")\n",
    "stock_list[:3]"
   ]
  },
  {
   "cell_type": "code",
   "execution_count": 31,
   "id": "72823817",
   "metadata": {},
   "outputs": [
    {
     "name": "stdout",
     "output_type": "stream",
     "text": [
      "005930\n"
     ]
    }
   ],
   "source": [
    "stock_name = '삼성전자'\n",
    "for tiker in stock_list:\n",
    "    if stock_name == stock.get_market_ticker_name(tiker) :\n",
    "        print(tiker)\n",
    "        break"
   ]
  },
  {
   "cell_type": "code",
   "execution_count": 34,
   "id": "78cf62aa",
   "metadata": {},
   "outputs": [],
   "source": [
    "target_str = '2025-06-20'"
   ]
  },
  {
   "cell_type": "code",
   "execution_count": 40,
   "id": "f96454e3",
   "metadata": {},
   "outputs": [
    {
     "data": {
      "text/plain": [
       "시가     5.940000e+04\n",
       "고가     5.980000e+04\n",
       "저가     5.910000e+04\n",
       "종가     5.950000e+04\n",
       "거래량    1.718480e+07\n",
       "등락률    5.067568e-01\n",
       "Name: 2025-06-20 00:00:00, dtype: float64"
      ]
     },
     "execution_count": 40,
     "metadata": {},
     "output_type": "execute_result"
    }
   ],
   "source": [
    "df = stock.get_market_ohlcv_by_date(fromdate=target_str, todate=target_str, ticker='005930')\n",
    "row = df.iloc[0]\n",
    "row"
   ]
  },
  {
   "cell_type": "code",
   "execution_count": 42,
   "id": "29b2e7cb",
   "metadata": {},
   "outputs": [
    {
     "name": "stdout",
     "output_type": "stream",
     "text": [
      "오류: 종목명 '삼성'을 찾을 수 없습니다.\n"
     ]
    }
   ],
   "source": [
    "from pykrx import stock\n",
    "from datetime import datetime, timedelta\n",
    "\n",
    "def get_target_stock_date(today: datetime) -> datetime:\n",
    "    weekday = today.weekday()\n",
    "    now = datetime.now()\n",
    "\n",
    "    if weekday == 0 and now.hour < 15:  # 월요일 + 마감 전\n",
    "        return today - timedelta(days=3)\n",
    "    elif weekday in [1, 2, 3, 4] and now.hour < 15:  # 화~금 + 마감 전\n",
    "        return today - timedelta(days=1)\n",
    "    elif weekday in [0, 1, 2, 3, 4] and now.hour >= 15:  # 월~금 + 마감 후\n",
    "        return today\n",
    "    elif weekday == 5:  # 토요일\n",
    "        return today - timedelta(days=1)\n",
    "    elif weekday == 6:  # 일요일\n",
    "        return today - timedelta(days=2)\n",
    "    else:\n",
    "        raise ValueError(\"날짜 판단 오류\")\n",
    "\n",
    "def get_stock_code_by_name(name: str) -> str:\n",
    "    tickers = stock.get_market_ticker_list(market=\"ALL\")\n",
    "    for ticker in tickers:\n",
    "        if stock.get_market_ticker_name(ticker) == name:\n",
    "            return ticker\n",
    "    raise ValueError(f\"종목명 '{name}'을 찾을 수 없습니다.\")\n",
    "\n",
    "def get_korean_stock_info(stock_name: str):\n",
    "    try:\n",
    "        code = get_stock_code_by_name(stock_name)\n",
    "        today = datetime.today()\n",
    "        target_date = get_target_stock_date(today)\n",
    "        target_str = target_date.strftime(\"%Y%m%d\")\n",
    "\n",
    "        df = stock.get_market_ohlcv_by_date(fromdate=target_str, todate=target_str, ticker=code)\n",
    "        if df.empty:\n",
    "            print(\"해당 날짜에 데이터가 없습니다.\")\n",
    "            return\n",
    "\n",
    "        row = df.iloc[0]\n",
    "        print(f\"[{stock_name}] {target_str} 기준\")\n",
    "        print(f\"종가: {row['종가']:,}원\")\n",
    "        print(f\"전일대비: {row['등락률']}%\")\n",
    "        print(f\"거래량: {row['거래량']:,}주\")\n",
    "    except Exception as e:\n",
    "        print(\"오류:\", e)\n",
    "\n",
    "# 사용 예시\n",
    "get_korean_stock_info(\"삼성\")\n"
   ]
  },
  {
   "cell_type": "code",
   "execution_count": 45,
   "id": "113e41fb",
   "metadata": {},
   "outputs": [],
   "source": [
    "matched = {}\n",
    "matched['삼성전자'] = '001930'\n",
    "matched['삼성전기'] = '0009150'\n",
    "matched['삼성SDI'] = '006400'\n",
    "matched['하이닉스'] = '000660'"
   ]
  },
  {
   "cell_type": "code",
   "execution_count": 49,
   "id": "b30941f9",
   "metadata": {},
   "outputs": [
    {
     "name": "stdout",
     "output_type": "stream",
     "text": [
      "('삼성전자', '001930')\n",
      "('삼성전기', '0009150')\n",
      "('삼성SDI', '006400')\n",
      "('하이닉스', '000660')\n"
     ]
    }
   ],
   "source": [
    "for i in matched.items():\n",
    "    print(i)\n"
   ]
  },
  {
   "cell_type": "code",
   "execution_count": 50,
   "id": "e8fa1671",
   "metadata": {},
   "outputs": [
    {
     "name": "stdout",
     "output_type": "stream",
     "text": [
      "(1, ('삼성전자', '001930'))\n",
      "(2, ('삼성전기', '0009150'))\n",
      "(3, ('삼성SDI', '006400'))\n",
      "(4, ('하이닉스', '000660'))\n"
     ]
    }
   ],
   "source": [
    "for i in enumerate(matched.items(),1):\n",
    "    print(i)"
   ]
  },
  {
   "cell_type": "code",
   "execution_count": 53,
   "id": "7129ee63",
   "metadata": {},
   "outputs": [
    {
     "data": {
      "text/plain": [
       "True"
      ]
     },
     "execution_count": 53,
     "metadata": {},
     "output_type": "execute_result"
    }
   ],
   "source": [
    "'삼성' in '삼성전기'"
   ]
  },
  {
   "cell_type": "code",
   "execution_count": 54,
   "id": "e9db6557",
   "metadata": {},
   "outputs": [
    {
     "name": "stdout",
     "output_type": "stream",
     "text": [
      "'삼성'(으)로 검색된 유사 종목 목록:\n",
      "1. 삼성E&A (028050)\n",
      "2. 삼성FN리츠 (448730)\n",
      "3. 삼성SDI (006400)\n",
      "4. 삼성SDI우 (006405)\n",
      "5. 삼성공조 (006660)\n",
      "6. 삼성물산 (028260)\n",
      "7. 삼성물산우B (02826K)\n",
      "8. 삼성바이오로직스 (207940)\n",
      "9. 삼성생명 (032830)\n",
      "10. 삼성스팩8호 (448740)\n",
      "11. 삼성에스디에스 (018260)\n",
      "12. 삼성전기 (009150)\n",
      "13. 삼성전기우 (009155)\n",
      "14. 삼성전자 (005930)\n",
      "15. 삼성전자우 (005935)\n",
      "16. 삼성제약 (001360)\n",
      "17. 삼성중공업 (010140)\n",
      "18. 삼성증권 (016360)\n",
      "19. 삼성출판사 (068290)\n",
      "20. 삼성카드 (029780)\n",
      "21. 삼성화재 (000810)\n",
      "22. 삼성화재우 (000815)\n",
      "오류: '삼성'와 정확히 일치하는 종목은 없지만, 위의 유사 종목이 있습니다.\n"
     ]
    }
   ],
   "source": [
    "from pykrx import stock\n",
    "from datetime import datetime, timedelta\n",
    "\n",
    "def get_target_stock_date(today: datetime) -> datetime:\n",
    "    weekday = today.weekday()\n",
    "    now = datetime.now()\n",
    "\n",
    "    if weekday == 0 and now.hour < 15:  # 월요일 + 마감 전\n",
    "        return today - timedelta(days=3)\n",
    "    elif weekday in [1, 2, 3, 4] and now.hour < 15:  # 화~금 + 마감 전\n",
    "        return today - timedelta(days=1)\n",
    "    elif weekday in [0, 1, 2, 3, 4] and now.hour >= 15:  # 월~금 + 마감 후\n",
    "        return today\n",
    "    elif weekday == 5:  # 토요일\n",
    "        return today - timedelta(days=1)\n",
    "    elif weekday == 6:  # 일요일\n",
    "        return today - timedelta(days=2)\n",
    "    else:\n",
    "        raise ValueError(\"날짜 판단 오류\")\n",
    "\n",
    "def get_stock_code_by_name(name: str) -> str:\n",
    "    tickers = stock.get_market_ticker_list(market=\"ALL\")\n",
    "    matched = {}\n",
    "\n",
    "    for ticker in tickers:\n",
    "        kor_name = stock.get_market_ticker_name(ticker)\n",
    "        if kor_name == name:\n",
    "            return ticker\n",
    "        if name in kor_name:\n",
    "            matched[kor_name] = ticker\n",
    "\n",
    "    if matched:\n",
    "        print(f\"'{name}'(으)로 검색된 유사 종목 목록:\")\n",
    "        for i, (k, v) in enumerate(matched.items(), 1):\n",
    "            print(f\"{i}. {k} ({v})\")\n",
    "        raise ValueError(f\"'{name}'와 정확히 일치하는 종목은 없지만, 위의 유사 종목이 있습니다.\")\n",
    "    else:\n",
    "        raise ValueError(f\"종목명 '{name}'을 찾을 수 없고, 유사한 이름도 없습니다.\")\n",
    "\n",
    "def get_korean_stock_info(stock_name: str):\n",
    "    try:\n",
    "        code = get_stock_code_by_name(stock_name)\n",
    "        today = datetime.today()\n",
    "        target_date = get_target_stock_date(today)\n",
    "        target_str = target_date.strftime(\"%Y%m%d\")\n",
    "\n",
    "        df = stock.get_market_ohlcv_by_date(fromdate=target_str, todate=target_str, ticker=code)\n",
    "        if df.empty:\n",
    "            print(\"해당 날짜에 데이터가 없습니다.\")\n",
    "            return\n",
    "\n",
    "        row = df.iloc[0]\n",
    "        print(f\"[{stock_name}] {target_str} 기준\")\n",
    "        print(f\"종가: {row['종가']:,}원\")\n",
    "        print(f\"전일대비: {row['등락률']}%\")\n",
    "        print(f\"거래량: {row['거래량']:,}주\")\n",
    "    except Exception as e:\n",
    "        print(\"오류:\", e)\n",
    "\n",
    "# 예시 사용\n",
    "get_korean_stock_info(\"삼성\")\n"
   ]
  },
  {
   "cell_type": "code",
   "execution_count": 57,
   "id": "2636e3ab",
   "metadata": {},
   "outputs": [
    {
     "name": "stdout",
     "output_type": "stream",
     "text": [
      "[SK하이닉스] 20250620 기준\n",
      "종가: 257,000.0원\n",
      "전일대비: 4.471544715447155%\n",
      "거래량: 3,548,848.0주\n"
     ]
    }
   ],
   "source": [
    "get_korean_stock_info(\"SK하이닉스\")"
   ]
  },
  {
   "cell_type": "markdown",
   "id": "3da96570",
   "metadata": {},
   "source": [
    "# 커서가 수정해준 내용"
   ]
  },
  {
   "cell_type": "code",
   "execution_count": 5,
   "id": "fd9bfaf3",
   "metadata": {},
   "outputs": [
    {
     "name": "stdout",
     "output_type": "stream",
     "text": [
      "[SK하이닉스] 20250620 기준\n",
      "종가: 257,000.0원\n",
      "전일대비: 4.47%\n",
      "거래량: 3,548,848.0주\n",
      "시가: 249,000.0원\n",
      "고가: 257,000.0원\n",
      "저가: 247,500.0원\n"
     ]
    }
   ],
   "source": [
    "from pykrx import stock\n",
    "from datetime import datetime, timedelta\n",
    "from typing import Optional, Dict, Any\n",
    "import logging\n",
    "\n",
    "# 상수 정의\n",
    "MARKET_CLOSE_HOUR = 15\n",
    "WEEKDAYS = [0, 1, 2, 3, 4]  # 월~금\n",
    "WEEKEND = [5, 6]  # 토, 일\n",
    "\n",
    "# 로깅 설정\n",
    "logging.basicConfig(level=logging.INFO)\n",
    "logger = logging.getLogger(__name__)\n",
    "\n",
    "# 종목 코드 캐시\n",
    "_stock_code_cache: Dict[str, str] = {}\n",
    "\n",
    "def get_target_stock_date(today: datetime) -> datetime:\n",
    "    \"\"\"\n",
    "    주어진 날짜를 기준으로 주식 데이터를 조회할 대상 날짜를 계산합니다.\n",
    "    \n",
    "    Args:\n",
    "        today: 기준 날짜\n",
    "        \n",
    "    Returns:\n",
    "        조회할 대상 날짜\n",
    "        \n",
    "    Raises:\n",
    "        ValueError: 날짜 판단이 불가능한 경우\n",
    "    \"\"\"\n",
    "    weekday = today.weekday()\n",
    "    current_hour = today.hour\n",
    "\n",
    "    if weekday == 0 and current_hour < MARKET_CLOSE_HOUR:  # 월요일 + 마감 전\n",
    "        return today - timedelta(days=3)\n",
    "    elif weekday in [1, 2, 3, 4] and current_hour < MARKET_CLOSE_HOUR:  # 화~금 + 마감 전\n",
    "        return today - timedelta(days=1)\n",
    "    elif weekday in WEEKDAYS and current_hour >= MARKET_CLOSE_HOUR:  # 월~금 + 마감 후\n",
    "        return today\n",
    "    elif weekday == 5:  # 토요일\n",
    "        return today - timedelta(days=1)\n",
    "    elif weekday == 6:  # 일요일\n",
    "        return today - timedelta(days=2)\n",
    "    else:\n",
    "        raise ValueError(\"날짜 판단 오류\")\n",
    "\n",
    "def get_stock_code_by_name(name: str) -> str:\n",
    "    \"\"\"\n",
    "    종목명으로 종목 코드를 조회합니다. 캐시를 사용하여 성능을 개선합니다.\n",
    "    \n",
    "    Args:\n",
    "        name: 종목명\n",
    "        \n",
    "    Returns:\n",
    "        종목 코드\n",
    "        \n",
    "    Raises:\n",
    "        ValueError: 종목명을 찾을 수 없는 경우\n",
    "    \"\"\"\n",
    "    # 캐시에서 먼저 확인\n",
    "    if name in _stock_code_cache:\n",
    "        return _stock_code_cache[name]\n",
    "    \n",
    "    try:\n",
    "        tickers = stock.get_market_ticker_list(market=\"ALL\")\n",
    "        for ticker in tickers:\n",
    "            ticker_name = stock.get_market_ticker_name(ticker)\n",
    "            if ticker_name == name:\n",
    "                # 캐시에 저장\n",
    "                _stock_code_cache[name] = ticker\n",
    "                return ticker\n",
    "        raise ValueError(f\"종목명 '{name}'을 찾을 수 없습니다.\")\n",
    "    except Exception as e:\n",
    "        logger.error(f\"종목 코드 조회 중 오류 발생: {e}\")\n",
    "        raise\n",
    "\n",
    "def format_stock_data(row: Any, stock_name: str, target_str: str) -> str:\n",
    "    \"\"\"\n",
    "    주식 데이터를 포맷팅하여 문자열로 반환합니다.\n",
    "    \n",
    "    Args:\n",
    "        row: 주식 데이터 행\n",
    "        stock_name: 종목명\n",
    "        target_str: 대상 날짜 문자열\n",
    "        \n",
    "    Returns:\n",
    "        포맷팅된 주식 정보 문자열\n",
    "    \"\"\"\n",
    "    try:\n",
    "        return (\n",
    "            f\"[{stock_name}] {target_str} 기준\\n\"\n",
    "            f\"종가: {row['종가']:,}원\\n\"\n",
    "            f\"전일대비: {row['등락률']:.2f}%\\n\"\n",
    "            f\"거래량: {row['거래량']:,}주\\n\"\n",
    "            f\"시가: {row['시가']:,}원\\n\"\n",
    "            f\"고가: {row['고가']:,}원\\n\"\n",
    "            f\"저가: {row['저가']:,}원\"\n",
    "        )\n",
    "    except KeyError as e:\n",
    "        logger.error(f\"주식 데이터 포맷팅 중 누락된 컬럼: {e}\")\n",
    "        return f\"데이터 포맷팅 오류: {e}\"\n",
    "\n",
    "def get_korean_stock_info(stock_name: str) -> Optional[str]:\n",
    "    \"\"\"\n",
    "    한국 주식 정보를 조회합니다.\n",
    "    \n",
    "    Args:\n",
    "        stock_name: 조회할 종목명\n",
    "        \n",
    "    Returns:\n",
    "        포맷팅된 주식 정보 문자열 또는 None (오류 시)\n",
    "    \"\"\"\n",
    "    try:\n",
    "        # 종목 코드 조회\n",
    "        code = get_stock_code_by_name(stock_name)\n",
    "        \n",
    "        # 대상 날짜 계산\n",
    "        today = datetime.today()\n",
    "        target_date = get_target_stock_date(today)\n",
    "        target_str = target_date.strftime(\"%Y%m%d\")\n",
    "        \n",
    "        # 주식 데이터 조회\n",
    "        df = stock.get_market_ohlcv_by_date(\n",
    "            fromdate=target_str, \n",
    "            todate=target_str, \n",
    "            ticker=code\n",
    "        )\n",
    "        \n",
    "        if df.empty:\n",
    "            logger.warning(f\"해당 날짜({target_str})에 데이터가 없습니다.\")\n",
    "            return None\n",
    "\n",
    "        # 데이터 포맷팅 및 반환\n",
    "        row = df.iloc[0]\n",
    "        result = format_stock_data(row, stock_name, target_str)\n",
    "        print(result)\n",
    "        return result\n",
    "        \n",
    "    except ValueError as e:\n",
    "        logger.error(f\"입력 오류: {e}\")\n",
    "        print(f\"오류: {e}\")\n",
    "        return None\n",
    "    except Exception as e:\n",
    "        logger.error(f\"주식 정보 조회 중 예상치 못한 오류: {e}\")\n",
    "        print(f\"오류: {e}\")\n",
    "        return None\n",
    "\n",
    "def clear_stock_cache() -> None:\n",
    "    \"\"\"종목 코드 캐시를 초기화합니다.\"\"\"\n",
    "    _stock_code_cache.clear()\n",
    "    logger.info(\"종목 코드 캐시가 초기화되었습니다.\")\n",
    "\n",
    "# 사용 예시\n",
    "if __name__ == \"__main__\":\n",
    "    # 삼성전자 주식 정보 조회\n",
    "    result = get_korean_stock_info(\"SK하이닉스\")\n"
   ]
  },
  {
   "cell_type": "markdown",
   "id": "ee425d74",
   "metadata": {},
   "source": [
    "# 실시간 날씨 예보 - "
   ]
  },
  {
   "cell_type": "code",
   "execution_count": 6,
   "id": "2e3b88dd",
   "metadata": {},
   "outputs": [
    {
     "name": "stdout",
     "output_type": "stream",
     "text": [
      "Requirement already satisfied: requests in c:\\users\\tj\\miniconda3\\envs\\week_3.12\\lib\\site-packages (2.31.0)\n",
      "Requirement already satisfied: charset-normalizer<4,>=2 in c:\\users\\tj\\miniconda3\\envs\\week_3.12\\lib\\site-packages (from requests) (3.4.2)\n",
      "Requirement already satisfied: idna<4,>=2.5 in c:\\users\\tj\\miniconda3\\envs\\week_3.12\\lib\\site-packages (from requests) (2.10)\n",
      "Requirement already satisfied: urllib3<3,>=1.21.1 in c:\\users\\tj\\miniconda3\\envs\\week_3.12\\lib\\site-packages (from requests) (2.4.0)\n",
      "Requirement already satisfied: certifi>=2017.4.17 in c:\\users\\tj\\miniconda3\\envs\\week_3.12\\lib\\site-packages (from requests) (2025.6.15)\n",
      "Note: you may need to restart the kernel to use updated packages.\n"
     ]
    }
   ],
   "source": [
    "%pip install requests"
   ]
  },
  {
   "cell_type": "code",
   "execution_count": 10,
   "id": "ab4da621",
   "metadata": {},
   "outputs": [
    {
     "name": "stdout",
     "output_type": "stream",
     "text": [
      "도시: Seoul\n",
      "날씨: 맑음\n",
      "온도: 25.76°C\n",
      "체감 온도: 25.98°C\n",
      "습도: 61%\n"
     ]
    }
   ],
   "source": [
    "import requests  # 웹 요청을 보내기 위한 라이브러리\n",
    "\n",
    "# 1. API 키 입력 (회원가입 후 받은 키로 바꾸세요!)\n",
    "API_KEY = \"cb9a8cbc6c0ca6f050057f8b496292fb\"  # OpenWeatherMap API 키\n",
    "\n",
    "# 2. 날씨를 조회할 도시 설정\n",
    "city = \"Seoul\"\n",
    "\n",
    "# 3. API 요청 주소 만들기\n",
    "url = f\"http://api.openweathermap.org/data/2.5/weather?q={city}&appid={API_KEY}&lang=kr&units=metric\"\n",
    "\n",
    "# 4. 요청 보내고 응답 받기\n",
    "response = requests.get(url)\n",
    "\n",
    "# 5. JSON 형태로 결과 받기\n",
    "data = response.json()\n",
    "\n",
    "# 6. 날씨 정보 출력\n",
    "if response.status_code == 200:\n",
    "    print(f\"도시: {data['name']}\")\n",
    "    print(f\"날씨: {data['weather'][0]['description']}\")\n",
    "    print(f\"온도: {data['main']['temp']}°C\")\n",
    "    print(f\"체감 온도: {data['main']['feels_like']}°C\")\n",
    "    print(f\"습도: {data['main']['humidity']}%\")\n",
    "else:\n",
    "    print(\"날씨 정보를 가져오지 못했습니다.\")\n",
    "    print(\"오류 메시지:\", data.get(\"message\", \"알 수 없는 오류\"))\n"
   ]
  },
  {
   "cell_type": "code",
   "execution_count": null,
   "id": "188c8ace",
   "metadata": {},
   "outputs": [
    {
     "name": "stdout",
     "output_type": "stream",
     "text": [
      "==================================================\n",
      "🌤️  날씨 정보 조회\n",
      "==================================================\n",
      "\n",
      "📍 현재 날씨\n",
      "📍 Seoul, KR\n",
      "🌤️  맑음\n",
      "🌡️  온도: 25.8°C\n",
      "🌡️  체감온도: 26.0°C\n",
      "💧 습도: 61%\n",
      "🌪️  바람: 2.6m/s\n",
      "🌅 일출: 05:11\n",
      "🌇 일몰: 19:56\n",
      "\n",
      "==================================================\n",
      "📅 5일 예보\n",
      "==================================================\n",
      "📅 Seoul 5일 예보\n",
      "\n",
      "📅 1일 후 (06/22)\n",
      "🌤️  맑음\n",
      "🌡️  온도: 25.9°C\n",
      "💧 습도: 56%\n",
      "\n",
      "📅 2일 후 (06/23)\n",
      "🌤️  맑음\n",
      "🌡️  온도: 25.5°C\n",
      "💧 습도: 55%\n",
      "\n",
      "📅 3일 후 (06/24)\n",
      "🌤️  온흐림\n",
      "🌡️  온도: 25.1°C\n",
      "💧 습도: 59%\n",
      "\n",
      "📅 4일 후 (06/25)\n",
      "🌤️  실 비\n",
      "🌡️  온도: 21.4°C\n",
      "💧 습도: 81%\n",
      "\n",
      "📅 5일 후 (06/26)\n",
      "🌤️  실 비\n",
      "🌡️  온도: 21.1°C\n",
      "💧 습도: 85%\n"
     ]
    }
   ],
   "source": [
    "import requests\n",
    "import json\n",
    "from datetime import datetime\n",
    "from typing import Optional, Dict, Any\n",
    "\n",
    "def get_weather(city: str, country_code: str = \"KR\") -> Optional[Dict[str, Any]]:\n",
    "    \"\"\"\n",
    "    현재 날씨 정보를 조회합니다.\n",
    "    \n",
    "    Args:\n",
    "        city: 도시명\n",
    "        country_code: 국가 코드 (기본값: \"KR\")\n",
    "        \n",
    "    Returns:\n",
    "        날씨 정보 딕셔너리 또는 None (오류 시)\n",
    "    \"\"\"\n",
    "    # API 키 (실제 사용 시 config.json에서 로드하거나 환경변수 사용)\n",
    "    API_KEY = \"cb9a8cbc6c0ca6f050057f8b496292fb\"\n",
    "    \n",
    "    try:\n",
    "        # API 요청\n",
    "        url = f\"http://api.openweathermap.org/data/2.5/weather\"\n",
    "        params = {\n",
    "            \"q\": f\"{city},{country_code}\",\n",
    "            \"appid\": API_KEY,\n",
    "            \"lang\": \"kr\",\n",
    "            \"units\": \"metric\"\n",
    "        }\n",
    "        \n",
    "        response = requests.get(url, params=params, timeout=10)\n",
    "        \n",
    "        if response.status_code == 200:\n",
    "            return response.json()\n",
    "        else:\n",
    "            print(f\"❌ API 오류: {response.status_code}\")\n",
    "            return None\n",
    "            \n",
    "    except requests.exceptions.Timeout:\n",
    "        print(\"❌ 요청 시간 초과\")\n",
    "        return None\n",
    "    except requests.exceptions.RequestException as e:\n",
    "        print(f\"❌ 네트워크 오류: {e}\")\n",
    "        return None\n",
    "    except Exception as e:\n",
    "        print(f\"❌ 예상치 못한 오류: {e}\")\n",
    "        return None\n",
    "\n",
    "def get_forecast(city: str, country_code: str = \"KR\", days: int = 5) -> Optional[Dict[str, Any]]:\n",
    "    \"\"\"\n",
    "    날씨 예보 정보를 조회합니다.\n",
    "    \n",
    "    Args:\n",
    "        city: 도시명\n",
    "        country_code: 국가 코드 (기본값: \"KR\")\n",
    "        days: 예보 일수 (기본값: 5)\n",
    "        \n",
    "    Returns:\n",
    "        예보 정보 딕셔너리 또는 None (오류 시)\n",
    "    \"\"\"\n",
    "    API_KEY = \"openweathermap_api_key\"  # 실제 API 키로 변경하세요\n",
    "    \n",
    "    try:\n",
    "        url = f\"http://api.openweathermap.org/data/2.5/forecast\"\n",
    "        params = {\n",
    "            \"q\": f\"{city},{country_code}\",\n",
    "            \"appid\": API_KEY,\n",
    "            \"lang\": \"kr\",\n",
    "            \"units\": \"metric\"\n",
    "        }\n",
    "        \n",
    "        response = requests.get(url, params=params, timeout=10)\n",
    "        \n",
    "        if response.status_code == 200:\n",
    "            return response.json()\n",
    "        else:\n",
    "            print(f\"❌ API 오류: {response.status_code}\")\n",
    "            return None\n",
    "            \n",
    "    except Exception as e:\n",
    "        print(f\"❌ 예보 조회 오류: {e}\")\n",
    "        return None\n",
    "\n",
    "def format_current_weather(data: Dict[str, Any]) -> str:\n",
    "    \"\"\"현재 날씨 정보를 포맷팅\"\"\"\n",
    "    try:\n",
    "        city = data['name']\n",
    "        country = data['sys']['country']\n",
    "        temp = data['main']['temp']\n",
    "        feels_like = data['main']['feels_like']\n",
    "        humidity = data['main']['humidity']\n",
    "        description = data['weather'][0]['description']\n",
    "        wind_speed = data['wind']['speed']\n",
    "        \n",
    "        # 일출/일몰 시간\n",
    "        sunrise = datetime.fromtimestamp(data['sys']['sunrise']).strftime('%H:%M')\n",
    "        sunset = datetime.fromtimestamp(data['sys']['sunset']).strftime('%H:%M')\n",
    "        \n",
    "        return (\n",
    "            f\"📍 {city}, {country}\\n\"\n",
    "            f\"🌤️  {description}\\n\"\n",
    "            f\"🌡️  온도: {temp:.1f}°C\\n\"\n",
    "            f\"🌡️  체감온도: {feels_like:.1f}°C\\n\"\n",
    "            f\"💧 습도: {humidity}%\\n\"\n",
    "            f\"🌪️  바람: {wind_speed:.1f}m/s\\n\"\n",
    "            f\"🌅 일출: {sunrise}\\n\"\n",
    "            f\"🌇 일몰: {sunset}\"\n",
    "        )\n",
    "    except KeyError as e:\n",
    "        return f\"❌ 데이터 파싱 오류: {e}\"\n",
    "\n",
    "def format_forecast(data: Dict[str, Any], days: int = 5) -> str:\n",
    "    \"\"\"예보 정보를 포맷팅\"\"\"\n",
    "    try:\n",
    "        city = data['city']['name']\n",
    "        result = [f\"📅 {city} {days}일 예보\"]\n",
    "        \n",
    "        # 날짜별로 데이터 그룹화\n",
    "        daily_data = {}\n",
    "        for item in data['list']:\n",
    "            date = datetime.fromtimestamp(item['dt']).strftime('%m/%d')\n",
    "            if date not in daily_data:\n",
    "                daily_data[date] = []\n",
    "            daily_data[date].append(item)\n",
    "        \n",
    "        # 각 날짜별 평균 계산\n",
    "        for i, (date, items) in enumerate(list(daily_data.items())[:days], 1):\n",
    "            avg_temp = sum(item['main']['temp'] for item in items) / len(items)\n",
    "            avg_humidity = sum(item['main']['humidity'] for item in items) / len(items)\n",
    "            description = items[0]['weather'][0]['description']\n",
    "            \n",
    "            result.append(\n",
    "                f\"\\n📅 {i}일 후 ({date})\\n\"\n",
    "                f\"🌤️  {description}\\n\"\n",
    "                f\"🌡️  온도: {avg_temp:.1f}°C\\n\"\n",
    "                f\"💧 습도: {avg_humidity:.0f}%\"\n",
    "            )\n",
    "        \n",
    "        return \"\\n\".join(result)\n",
    "        \n",
    "    except KeyError as e:\n",
    "        return f\"❌ 예보 데이터 파싱 오류: {e}\"\n",
    "\n",
    "def main():\n",
    "    \"\"\"메인 함수\"\"\"\n",
    "    print(\"=\" * 50)\n",
    "    print(\"🌤️  날씨 정보 조회\")\n",
    "    print(\"=\" * 50)\n",
    "    \n",
    "    # 현재 날씨 조회\n",
    "    print(\"\\n📍 현재 날씨\")\n",
    "    current_weather = get_weather(\"Seoul\")\n",
    "    if current_weather:\n",
    "        print(format_current_weather(current_weather))\n",
    "    else:\n",
    "        print(\"❌ 현재 날씨 정보를 가져올 수 없습니다.\")\n",
    "    \n",
    "    # 날씨 예보 조회\n",
    "    print(\"\\n\" + \"=\" * 50)\n",
    "    print(\"📅 5일 예보\")\n",
    "    print(\"=\" * 50)\n",
    "    \n",
    "    forecast = get_forecast(\"Seoul\", days=5)\n",
    "    if forecast:\n",
    "        print(format_forecast(forecast, 5))\n",
    "    else:\n",
    "        print(\"❌ 날씨 예보를 가져올 수 없습니다.\")\n",
    "\n",
    "if __name__ == \"__main__\":\n",
    "    main() "
   ]
  },
  {
   "cell_type": "code",
   "execution_count": 26,
   "id": "9049d477",
   "metadata": {},
   "outputs": [
    {
     "data": {
      "text/plain": [
       "'\"나만이 내 인생을 바꿀 수 있다. 아무도 날 대신해 해줄 수 없다.\"\\n- 캐롤 버넷'"
      ]
     },
     "execution_count": 26,
     "metadata": {},
     "output_type": "execute_result"
    }
   ],
   "source": [
    "import requests\n",
    "\n",
    "def get_quote():\n",
    "    try:\n",
    "        response = requests.get(\"https://korean-advice-open-api.vercel.app/api/advice\")\n",
    "        if response.status_code == 200:\n",
    "            data = response.json()\n",
    "            return f'\"{data[\"message\"]}\"\\n- {data[\"author\"]}'\n",
    "        else:\n",
    "            return \"명언을 가져오지 못했습니다.\"\n",
    "    except Exception as e:\n",
    "        return f\"오류 발생: {e}\"\n",
    "    \n",
    "get_quote()    "
   ]
  },
  {
   "cell_type": "code",
   "execution_count": null,
   "id": "1ea9137b",
   "metadata": {},
   "outputs": [
    {
     "name": "stdout",
     "output_type": "stream",
     "text": [
      "Collecting plyer\n",
      "  Downloading plyer-2.1.0-py2.py3-none-any.whl.metadata (61 kB)\n",
      "Downloading plyer-2.1.0-py2.py3-none-any.whl (142 kB)\n",
      "Installing collected packages: plyer\n",
      "Successfully installed plyer-2.1.0\n",
      "Note: you may need to restart the kernel to use updated packages.\n"
     ]
    }
   ],
   "source": [
    "# plyer install  use pip\n",
    "%pip install plyer"
   ]
  },
  {
   "cell_type": "code",
   "execution_count": 23,
   "id": "8fad0b9c",
   "metadata": {},
   "outputs": [],
   "source": [
    "from plyer import notification\n",
    "\n",
    "def show_notification(message):\n",
    "    notification.notify(\n",
    "        title=\"오늘의 명언 😊\",\n",
    "        message=message,\n",
    "        timeout=10  # 초\n",
    "    )\n",
    "show_notification( get_quote() )"
   ]
  },
  {
   "cell_type": "code",
   "execution_count": 24,
   "id": "350006df",
   "metadata": {},
   "outputs": [
    {
     "name": "stdout",
     "output_type": "stream",
     "text": [
      "Collecting schedule\n",
      "  Downloading schedule-1.2.2-py3-none-any.whl.metadata (3.8 kB)\n",
      "Downloading schedule-1.2.2-py3-none-any.whl (12 kB)\n",
      "Installing collected packages: schedule\n",
      "Successfully installed schedule-1.2.2\n",
      "Note: you may need to restart the kernel to use updated packages.\n"
     ]
    }
   ],
   "source": [
    "%pip install schedule"
   ]
  },
  {
   "cell_type": "code",
   "execution_count": 25,
   "id": "ebd03b2e",
   "metadata": {},
   "outputs": [
    {
     "name": "stdout",
     "output_type": "stream",
     "text": [
      "⏰ 알림 대기 중... (Ctrl+C로 종료)\n"
     ]
    },
    {
     "ename": "KeyboardInterrupt",
     "evalue": "",
     "output_type": "error",
     "traceback": [
      "\u001b[31m---------------------------------------------------------------------------\u001b[39m",
      "\u001b[31mKeyboardInterrupt\u001b[39m                         Traceback (most recent call last)",
      "\u001b[36mCell\u001b[39m\u001b[36m \u001b[39m\u001b[32mIn[25]\u001b[39m\u001b[32m, line 14\u001b[39m\n\u001b[32m     12\u001b[39m \u001b[38;5;28;01mwhile\u001b[39;00m \u001b[38;5;28;01mTrue\u001b[39;00m:\n\u001b[32m     13\u001b[39m     schedule.run_pending()\n\u001b[32m---> \u001b[39m\u001b[32m14\u001b[39m     \u001b[43mtime\u001b[49m\u001b[43m.\u001b[49m\u001b[43msleep\u001b[49m\u001b[43m(\u001b[49m\u001b[32;43m1\u001b[39;49m\u001b[43m)\u001b[49m\n",
      "\u001b[31mKeyboardInterrupt\u001b[39m: "
     ]
    }
   ],
   "source": [
    "import schedule\n",
    "import time\n",
    "\n",
    "def job():\n",
    "    message = get_quote()\n",
    "    show_notification(message)\n",
    "\n",
    "# 매일 오전 9시에 실행\n",
    "schedule.every().day.at(\"12:14\").do(job)\n",
    "\n",
    "print(\"⏰ 알림 대기 중... (Ctrl+C로 종료)\")\n",
    "while True:\n",
    "    schedule.run_pending()\n",
    "    time.sleep(1)\n"
   ]
  },
  {
   "cell_type": "code",
   "execution_count": null,
   "id": "7734fef4",
   "metadata": {},
   "outputs": [],
   "source": [
    "import requests\n",
    "from plyer import notification\n",
    "import schedule\n",
    "import time\n",
    "\n",
    "def get_quote():\n",
    "    try:\n",
    "        response = requests.get(\"https://korean-advice-open-api.vercel.app/api/advice\")\n",
    "        if response.status_code == 200:\n",
    "            data = response.json()\n",
    "            return f'\"{data[\"content\"]}\"\\n- {data[\"author\"]}'\n",
    "        else:\n",
    "            return \"명언을 가져오지 못했습니다.\"\n",
    "    except Exception as e:\n",
    "        return f\"오류 발생: {e}\"\n",
    "\n",
    "def show_notification(message):\n",
    "    notification.notify(\n",
    "        title=\"오늘의 명언 😊\",\n",
    "        message=message,\n",
    "        timeout=10\n",
    "    )\n",
    "\n",
    "def job():\n",
    "    message = get_quote()\n",
    "    show_notification(message)\n",
    "\n",
    "# 매일 오전 9시 알림\n",
    "schedule.every().day.at(\"09:00\").do(job)\n",
    "\n",
    "print(\"⏰ 알림 대기 중... (Ctrl+C로 종료)\")\n",
    "while True:\n",
    "    schedule.run_pending()\n",
    "    time.sleep(1)\n"
   ]
  },
  {
   "cell_type": "code",
   "execution_count": 27,
   "id": "544490df",
   "metadata": {},
   "outputs": [
    {
     "name": "stderr",
     "output_type": "stream",
     "text": [
      "INFO:__main__:기본 설정 파일을 생성했습니다.\n",
      "INFO:__main__:스케줄러가 시작되었습니다. 알림 시간: 09:00\n"
     ]
    },
    {
     "name": "stdout",
     "output_type": "stream",
     "text": [
      "⏰ 알림 대기 중... (매일 09:00)\n",
      "📝 Ctrl+C로 종료\n",
      "🔧 설정 변경 시 quote_config.json 파일을 수정하세요\n",
      "🌐 API: https://korean-advice-open-api.vercel.app/api/advice\n",
      "\n",
      "🧪 테스트 알림을 보내시겠습니까? (y/n): "
     ]
    },
    {
     "name": "stderr",
     "output_type": "stream",
     "text": [
      "INFO:__main__:명언 알림 작업을 시작합니다.\n",
      "INFO:__main__:명언 요청 시도 1/3\n"
     ]
    },
    {
     "name": "stdout",
     "output_type": "stream",
     "text": [
      "🧪 테스트 알림을 실행합니다...\n"
     ]
    },
    {
     "name": "stderr",
     "output_type": "stream",
     "text": [
      "INFO:__main__:명언을 성공적으로 가져왔습니다: 스탕달\n",
      "INFO:__main__:알림을 성공적으로 표시했습니다.\n"
     ]
    },
    {
     "name": "stdout",
     "output_type": "stream",
     "text": [
      "✅ 테스트 알림이 완료되었습니다.\n",
      "\n",
      "⏰ 알림 대기 중... (Ctrl+C로 종료)\n"
     ]
    },
    {
     "name": "stderr",
     "output_type": "stream",
     "text": [
      "INFO:__main__:사용자에 의해 프로그램이 종료되었습니다.\n"
     ]
    },
    {
     "name": "stdout",
     "output_type": "stream",
     "text": [
      "\n",
      "👋 프로그램을 종료합니다.\n"
     ]
    }
   ],
   "source": [
    "import requests\n",
    "from plyer import notification\n",
    "import schedule\n",
    "import time\n",
    "import json\n",
    "import logging\n",
    "\n",
    "# 로깅 설정\n",
    "logging.basicConfig(\n",
    "    level=logging.INFO,\n",
    "    format='%(asctime)s - %(levelname)s - %(message)s'\n",
    ")\n",
    "logger = logging.getLogger(__name__)\n",
    "\n",
    "# 설정\n",
    "CONFIG = {\n",
    "    \"notification_time\": \"09:00\",\n",
    "    \"notification_timeout\": 10,\n",
    "    \"notification_title\": \"오늘의 명언 😊\",\n",
    "    \"api_url\": \"https://korean-advice-open-api.vercel.app/api/advice\",\n",
    "    \"max_retries\": 3,\n",
    "    \"retry_delay\": 5\n",
    "}\n",
    "\n",
    "# 명언 캐시\n",
    "quote_cache = []\n",
    "MAX_CACHE_SIZE = 10\n",
    "\n",
    "def load_config():\n",
    "    \"\"\"설정 파일을 로드합니다.\"\"\"\n",
    "    try:\n",
    "        with open('quote_config.json', 'r', encoding='utf-8') as f:\n",
    "            user_config = json.load(f)\n",
    "            CONFIG.update(user_config)\n",
    "            logger.info(\"설정 파일을 성공적으로 로드했습니다.\")\n",
    "    except FileNotFoundError:\n",
    "        # 기본 설정 파일 생성\n",
    "        with open('quote_config.json', 'w', encoding='utf-8') as f:\n",
    "            json.dump(CONFIG, f, ensure_ascii=False, indent=2)\n",
    "        logger.info(\"기본 설정 파일을 생성했습니다.\")\n",
    "    except Exception as e:\n",
    "        logger.error(f\"설정 파일 로드 오류: {e}\")\n",
    "\n",
    "def get_quote():\n",
    "    \"\"\"\n",
    "    한국어 명언 API에서 명언을 가져옵니다.\n",
    "    원본 코드의 get_quote 함수를 개선했습니다.\n",
    "    \"\"\"\n",
    "    for attempt in range(CONFIG[\"max_retries\"]):\n",
    "        try:\n",
    "            logger.info(f\"명언 요청 시도 {attempt + 1}/{CONFIG['max_retries']}\")\n",
    "            \n",
    "            response = requests.get(\n",
    "                CONFIG[\"api_url\"], \n",
    "                timeout=10,\n",
    "                headers={'User-Agent': 'QuoteNotification/1.0'}\n",
    "            )\n",
    "            \n",
    "            if response.status_code == 200:\n",
    "                data = response.json()\n",
    "                \n",
    "                # API 응답 구조 확인 및 처리\n",
    "                if \"content\" in data and \"author\" in data:\n",
    "                    quote_text = f'\"{data[\"content\"]}\"\\n- {data[\"author\"]}'\n",
    "                elif \"advice\" in data:  # 다른 응답 구조 대응\n",
    "                    quote_text = f'\"{data[\"advice\"]}\"\\n- 한국의 지혜'\n",
    "                else:\n",
    "                    # 예상치 못한 응답 구조 처리\n",
    "                    quote_text = f'\"{str(data)}\"\\n- 알 수 없는 출처'\n",
    "                \n",
    "                # 캐시에 추가\n",
    "                add_to_cache(quote_text)\n",
    "                \n",
    "                logger.info(f\"명언을 성공적으로 가져왔습니다: {data.get('author', '알 수 없음')}\")\n",
    "                return quote_text\n",
    "                \n",
    "            else:\n",
    "                logger.warning(f\"API 응답 오류: {response.status_code}\")\n",
    "                if response.status_code == 404:\n",
    "                    return \"API 엔드포인트를 찾을 수 없습니다.\"\n",
    "                elif response.status_code == 500:\n",
    "                    return \"서버 오류가 발생했습니다.\"\n",
    "                else:\n",
    "                    return f\"API 오류: {response.status_code}\"\n",
    "                \n",
    "        except requests.exceptions.Timeout:\n",
    "            logger.error(f\"요청 시간 초과 (시도 {attempt + 1})\")\n",
    "        except requests.exceptions.ConnectionError:\n",
    "            logger.error(f\"연결 오류 (시도 {attempt + 1})\")\n",
    "        except requests.exceptions.RequestException as e:\n",
    "            logger.error(f\"네트워크 오류 (시도 {attempt + 1}): {e}\")\n",
    "        except json.JSONDecodeError as e:\n",
    "            logger.error(f\"JSON 파싱 오류 (시도 {attempt + 1}): {e}\")\n",
    "        except Exception as e:\n",
    "            logger.error(f\"예상치 못한 오류 (시도 {attempt + 1}): {e}\")\n",
    "        \n",
    "        # 재시도 전 대기\n",
    "        if attempt < CONFIG[\"max_retries\"] - 1:\n",
    "            logger.info(f\"{CONFIG['retry_delay']}초 후 재시도합니다...\")\n",
    "            time.sleep(CONFIG[\"retry_delay\"])\n",
    "    \n",
    "    # 모든 시도 실패 시 캐시에서 랜덤 선택\n",
    "    if quote_cache:\n",
    "        logger.warning(\"API 요청 실패, 캐시된 명언을 사용합니다.\")\n",
    "        import random\n",
    "        return random.choice(quote_cache)\n",
    "    \n",
    "    # 캐시도 없으면 기본 명언 반환\n",
    "    default_quotes = [\n",
    "        '\"오늘 하루도 힘내세요!\"\\n- 응원하는 마음',\n",
    "        '\"작은 진전도 진전입니다.\"\\n- 격려의 말',\n",
    "        '\"당신은 충분히 잘하고 있습니다.\"\\n- 따뜻한 위로',\n",
    "        '\"내일은 더 좋은 날이 될 거예요.\"\\n- 희망의 메시지',\n",
    "        '\"한 걸음씩 천천히 나아가세요.\"\\n- 인생의 지혜'\n",
    "    ]\n",
    "    import random\n",
    "    return random.choice(default_quotes)\n",
    "\n",
    "def add_to_cache(quote):\n",
    "    \"\"\"명언을 캐시에 추가합니다.\"\"\"\n",
    "    if quote not in quote_cache:\n",
    "        quote_cache.append(quote)\n",
    "        if len(quote_cache) > MAX_CACHE_SIZE:\n",
    "            quote_cache.pop(0)  # 가장 오래된 명언 제거\n",
    "\n",
    "def show_notification(message):\n",
    "    \"\"\"\n",
    "    윈도우 알림을 표시합니다.\n",
    "    원본 코드의 show_notification 함수를 개선했습니다.\n",
    "    \"\"\"\n",
    "    try:\n",
    "        # 원본 코드와 동일한 방식으로 호출\n",
    "        notification.notify(\n",
    "            title=CONFIG[\"notification_title\"],\n",
    "            message=message,\n",
    "            timeout=CONFIG[\"notification_timeout\"]\n",
    "        )\n",
    "        logger.info(\"알림을 성공적으로 표시했습니다.\")\n",
    "        \n",
    "    except Exception as e:\n",
    "        logger.error(f\"알림 표시 오류: {e}\")\n",
    "        # 알림 실패 시 콘솔에 출력\n",
    "        print(f\"\\n{'='*50}\")\n",
    "        print(f\"📝 {CONFIG['notification_title']}\")\n",
    "        print(f\"{'='*50}\")\n",
    "        print(message)\n",
    "        print(f\"{'='*50}\\n\")\n",
    "\n",
    "def job():\n",
    "    \"\"\"\n",
    "    스케줄된 작업을 실행합니다.\n",
    "    원본 코드의 job 함수를 개선했습니다.\n",
    "    \"\"\"\n",
    "    logger.info(\"명언 알림 작업을 시작합니다.\")\n",
    "    \n",
    "    message = get_quote()\n",
    "    show_notification(message)\n",
    "\n",
    "def main():\n",
    "    \"\"\"메인 함수\"\"\"\n",
    "    try:\n",
    "        # 설정 로드\n",
    "        load_config()\n",
    "        \n",
    "        # 스케줄 설정 (원본 코드와 동일)\n",
    "        schedule.every().day.at(CONFIG[\"notification_time\"]).do(job)\n",
    "        \n",
    "        logger.info(f\"스케줄러가 시작되었습니다. 알림 시간: {CONFIG['notification_time']}\")\n",
    "        print(f\"⏰ 알림 대기 중... (매일 {CONFIG['notification_time']})\")\n",
    "        print(\"📝 Ctrl+C로 종료\")\n",
    "        print(\"🔧 설정 변경 시 quote_config.json 파일을 수정하세요\")\n",
    "        print(f\"🌐 API: {CONFIG['api_url']}\")\n",
    "        \n",
    "        # 즉시 한 번 실행 (테스트용)\n",
    "        print(\"\\n🧪 테스트 알림을 보내시겠습니까? (y/n): \", end=\"\")\n",
    "        if input().lower() == 'y':\n",
    "            print(\"🧪 테스트 알림을 실행합니다...\")\n",
    "            job()\n",
    "            print(\"✅ 테스트 알림이 완료되었습니다.\")\n",
    "        \n",
    "        # 원본 코드와 동일한 스케줄러 루프\n",
    "        print(\"\\n⏰ 알림 대기 중... (Ctrl+C로 종료)\")\n",
    "        while True:\n",
    "            schedule.run_pending()\n",
    "            time.sleep(1)\n",
    "            \n",
    "    except KeyboardInterrupt:\n",
    "        logger.info(\"사용자에 의해 프로그램이 종료되었습니다.\")\n",
    "        print(\"\\n👋 프로그램을 종료합니다.\")\n",
    "    except Exception as e:\n",
    "        logger.error(f\"프로그램 실행 오류: {e}\")\n",
    "        print(f\"❌ 오류가 발생했습니다: {e}\")\n",
    "\n",
    "if __name__ == \"__main__\":\n",
    "    main() "
   ]
  },
  {
   "cell_type": "code",
   "execution_count": null,
   "id": "18b7be21",
   "metadata": {},
   "outputs": [],
   "source": []
  }
 ],
 "metadata": {
  "kernelspec": {
   "display_name": "week_3.12",
   "language": "python",
   "name": "python3"
  },
  "language_info": {
   "codemirror_mode": {
    "name": "ipython",
    "version": 3
   },
   "file_extension": ".py",
   "mimetype": "text/x-python",
   "name": "python",
   "nbconvert_exporter": "python",
   "pygments_lexer": "ipython3",
   "version": "3.12.11"
  }
 },
 "nbformat": 4,
 "nbformat_minor": 5
}
